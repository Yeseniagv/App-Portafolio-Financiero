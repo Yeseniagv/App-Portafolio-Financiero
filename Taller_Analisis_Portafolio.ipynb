{
  "cells": [
    {
      "cell_type": "markdown",
      "metadata": {
        "id": "zCsrd91uxbIc"
      },
      "source": [
        "# **Taller - Preparación Concurso: Análisis de Portafolio de Inversión**\n"
      ],
      "id": "zCsrd91uxbIc"
    },
    {
      "cell_type": "markdown",
      "metadata": {
        "id": "jbBkIG15xbIf"
      },
      "source": [
        "## **1. Datos del Equipo 👥**\n",
        "\n",
        "1.1 Nombre:\n",
        "\n",
        "*   **Finanzas en Código**\n",
        "\n",
        "1.2 Integrantes:\n",
        "\n",
        "*   Yesenia Genes Victoria\n",
        "\n",
        "*   Veronica Lucia Muñoz Valencia\n",
        "\n",
        "*   Evelyn Melisa Monsalve Palacio\n"
      ],
      "id": "jbBkIG15xbIf"
    },
    {
      "cell_type": "markdown",
      "metadata": {
        "id": "rZnxEW90xbIg"
      },
      "source": [
        "## **2. ¿Qué es un Análisis de Portafolio de Inversión? 📚**\n",
        "\n",
        "- Evaluar rendimiento esperado.\n",
        "- Medir riesgo (volatilidad, varianza, desviación estándar).\n",
        "- Analizar cómo se combinan los activos (correlación y diversificación).\n",
        "- Relación riesgo–retorno."
      ],
      "id": "rZnxEW90xbIg"
    },
    {
      "cell_type": "markdown",
      "source": [
        "**2.1 Significa:**\n",
        "\n",
        "Analizar un portafolio de inversión significa hacerle una \"revisión médica\" completa a todas tus inversiones juntas. Es evaluar, de forma sistemática y crítica, el conjunto de activos (acciones, bonos, bienes raíces, fondos, etc.) que posees para responder a preguntas clave:\n",
        "\n",
        "¿Cómo se está comportando? (Rendimiento): Se calcula la ganancia o pérdida que ha generado el portafolio en un periodo de tiempo. No solo el total, sino también cómo se compara ese rendimiento con una referencia o índice de mercado (un benchmark) relevante.\n",
        "\n",
        "¿Qué tanto riesgo estoy tomando? (Riesgo): Se mide la volatilidad o las fluctuaciones del valor del portafolio. Es decir, qué tan probable es que suba o baje drásticamente. Lo ideal es buscar la mejor relación posible entre el rendimiento que obtienes y el riesgo que asumes.\n",
        "\n",
        "¿Está bien diversificado? (Composición): Se examina la mezcla de activos. ¿Están todos los huevos en la misma canasta? Se mira la distribución por clases de activos (renta fija, renta variable), sectores, geografías y divisas. Una buena diversificación es clave para mitigar el riesgo.\n",
        "\n",
        "¿Sigue cumpliendo mis objetivos? (Alineación): Se revisa si la composición actual del portafolio es coherente con tu horizonte de tiempo (cuándo necesitas el dinero) y tu tolerancia al riesgo personal. Si tus objetivos han cambiado, el portafolio probablemente también debería hacerlo.\n",
        "\n",
        "En esencia, el análisis busca optimizar el portafolio, ajustando la mezcla de activos (un proceso llamado rebalanceo) para maximizar las ganancias potenciales sin exponerte a un riesgo innecesario o excesivo. Es un proceso continuo, no algo que se hace una sola vez."
      ],
      "metadata": {
        "id": "zyFGnSMapGI-"
      },
      "id": "zyFGnSMapGI-"
    },
    {
      "cell_type": "markdown",
      "metadata": {
        "id": "_SHf8BqaxbIg"
      },
      "source": [
        "## **3. Investigación: Tipos de Análisis de Portafolio 🔍**\n",
        "\n",
        "**Ejemplos**\n",
        "- Análisis de rentabilidad y riesgo.\n",
        "- Comparación de portafolio de 1 activo vs. 2 activos.\n",
        "- Diversificación y correlación.\n",
        "- Simulación de escenarios (conservador, moderado, agresivo).\n",
        "- Optimización (frontera eficiente)."
      ],
      "id": "_SHf8BqaxbIg"
    },
    {
      "cell_type": "markdown",
      "source": [
        " ## **Propuesta 1: Análisis de Atribución de Rendimiento (Performance Attribution) 📊**\n",
        "Este análisis va más allá de saber cuánto ha ganado tu portafolio, y se enfoca en el por qué. Su objetivo es descomponer el rendimiento total para identificar las fuentes de ganancias o pérdidas.\n",
        "\n",
        "¿En qué consiste? Desglosa el rendimiento del portafolio en tres componentes principales en relación con un índice de referencia (benchmark):\n",
        "\n",
        "*   Asignación de Activos (Asset Allocation): El rendimiento generado por la decisión de sobreponderar o subponderar ciertas clases de activos (ej. invertir más en acciones que el índice).\n",
        "\n",
        "*   Selección de Valores (Security Selection): El rendimiento generado por elegir acciones o bonos individuales que superaron o rindieron menos que el promedio de su sector o industria en el índice.\n",
        "\n",
        "*   Interacción: El efecto combinado de las decisiones de asignación y selección.\n",
        "\n",
        "*   Utilidad: Es fundamental para los gestores de inversión, ya que permite determinar si el éxito (o fracaso) se debe a decisiones estratégicas a largo plazo (asignación) o a la habilidad para elegir activos específicos (selección).\n",
        "\n",
        "## **Propuesta 2: Análisis Factorial (Factor Investing/Analysis)💡**\n",
        "El análisis factorial parte de la idea de que el rendimiento de un activo puede explicarse por su exposición a ciertas características económicas o de mercado llamadas factores de riesgo.\n",
        "\n",
        "¿En qué consiste? En lugar de analizar el portafolio por clases de activos (acciones, bonos), se analiza por su exposición a factores específicos, como:\n",
        "\n",
        "*   Valor (Value): Invertir en acciones que parecen baratas en relación con sus fundamentos (ej. bajo precio/valor en libros).\n",
        "\n",
        "*   Tamaño (Size): Preferencia por empresas pequeñas (baja capitalización de mercado).\n",
        "\n",
        "*   Momento (Momentum): Invertir en activos que han tenido un buen rendimiento recientemente.\n",
        "\n",
        "*   Calidad (Quality): Invertir en empresas con altos márgenes de beneficio y baja deuda.\n",
        "\n",
        "*   Utilidad: Permite construir portafolios más robustos al diversificar no solo por empresas o sectores, sino por las fuentes fundamentales de riesgo y rendimiento. Ayuda a entender si el rendimiento es una compensación por la exposición a un riesgo sistémico (ej. el factor de mercado) o a un factor específico.\n",
        "\n",
        "## **Propuesta 3: Optimización con la Frontera Eficiente (Markowitz's Efficient Frontier) 📐**\n",
        "Este es un enfoque cuantitativo y fundamental que busca el equilibrio óptimo entre el riesgo y el rendimiento de un portafolio.\n",
        "\n",
        "¿En qué consiste? Utiliza la Teoría Moderna de Portafolio (MPT), desarrollada por Harry Markowitz. El análisis calcula miles de posibles combinaciones de activos y traza una curva, la Frontera Eficiente, que muestra los portafolios que ofrecen la mayor rentabilidad esperada para un nivel de riesgo dado, o el menor riesgo para una rentabilidad esperada dada.\n",
        "\n",
        "Los portafolios por debajo de la frontera son \"ineficientes\" porque podrías obtener más rendimiento sin más riesgo.\n",
        "\n",
        "Utilidad: Permite a los inversores identificar y seleccionar el portafolio óptimo que mejor se adapta a su perfil de riesgo. Es la herramienta principal para la asignación estratégica de activos y la construcción de portafolios diversificados y óptimamente balanceados."
      ],
      "metadata": {
        "id": "TlcVsxIFsrHg"
      },
      "id": "TlcVsxIFsrHg"
    },
    {
      "cell_type": "markdown",
      "metadata": {
        "id": "5Xs2miFkxbIh"
      },
      "source": [
        "## **4. Selección de la Propuesta ✅**\n",
        "\n",
        "**4.1 Justificación**\n",
        "\n",
        "El Análisis de Atribución de Rendimiento (AAR) es el método más sofisticado para demostrar la habilidad del equipo, ya que descompone el rendimiento total para identificar la contribución precisa de las decisiones estratégicas (Asignación de Activos) y la selección de valores específicos. Esto permite al grupo justificar si el éxito se debe a la estrategia o al stock-picking, un estándar clave en la gestión profesional de portafolios. Al cuantificar el \"por qué\" de los resultados frente a un benchmark, se añade una capa de rigor académico y profesionalismo.\n",
        "\n"
      ],
      "id": "5Xs2miFkxbIh"
    },
    {
      "cell_type": "markdown",
      "metadata": {
        "id": "1JBYaUV0xbIh"
      },
      "source": [
        "## **5. Herramientas de Trabajo 🛠️**\n",
        "\n",
        "**5.1 Entorno de Desarrollo y Colaboración (Estructura del Proyecto)**\n",
        "\n",
        "*   Python en Google Colab: Entorno principal para escribir, ejecutar y probar el código de análisis de datos.\n",
        "\n",
        "*   GitHub: Esencial para versionar el código, documentar el proyecto y permitir la colaboración efectiva entre los miembros del equipo.\n",
        "\n",
        "*   Streamlit: Necesario para crear un dashboard interactivo y presentable. Esto transformará sus cálculos en una aplicación web que el jurado podrá ver, demostrando la aplicación práctica de su análisis.\n",
        "\n",
        "**5.2 Librerías de Python Esenciales (Cálculo y Datos)**\n",
        "\n",
        "*   yfinance: Para descargar datos históricos de precios de los activos y, crucialmente, los datos del índice de referencia (benchmark) con el que compararán el rendimiento (el núcleo de la Atribución).\n",
        "\n",
        "*   Pandas: La librería fundamental para la manipulación y alineación de datos. Se usará para estructurar los precios y calcular las series de rendimientos del portafolio y del benchmark.\n",
        "\n",
        "*   NumPy: Soporte matemático necesario para cálculos de alto rendimiento, como la anualización de rendimientos y el cálculo eficiente de volatilidades.\n",
        "\n",
        "\n",
        "\n",
        "\n",
        "\n",
        "\n",
        "\n",
        "\n",
        "\n",
        "\n",
        "\n",
        "\n"
      ],
      "id": "1JBYaUV0xbIh"
    },
    {
      "cell_type": "markdown",
      "metadata": {
        "id": "mEWWTeUhxbIh"
      },
      "source": [
        "## **6. Referencias y Fuentes 📖**\n"
      ],
      "id": "mEWWTeUhxbIh"
    },
    {
      "cell_type": "markdown",
      "source": [
        "**6.1 Fundamentos Teóricos (El Modelo)**\n",
        "\n",
        "Artículos Académicos (Papers):\n",
        "\n",
        "*   Fórmulas del Modelo Brinson-Hood-Beebower (BHB).\n",
        "\n",
        "*   Textos clave sobre Medición de Desempeño y Performance Attribution del CFA Institute.\n",
        "\n",
        "**6.2 Implementación Técnica (El Código)**\n",
        "\n",
        "Documentación Oficial de Python:\n",
        "\n",
        "*   Librerías Pandas y NumPy (para manejo y cálculo de rendimientos).\n",
        "\n",
        "*   Librería yfinance (para obtener datos de precios de activos y benchmarks).\n",
        "\n",
        "Tutoriales de Finanzas Cuantitativas:\n",
        "\n",
        "*   Ejemplos de código para la implementación del Modelo Brinson en Python.\n",
        "\n",
        "*   Guías de uso de Streamlit para la visualización interactiva del AAR.\n",
        "\n",
        "**6.3 Apoyo (IA)**\n",
        "\n",
        "*   Geminis\n",
        "\n",
        "*   ChatGPT\n",
        "\n",
        "*   NotebookLM\n"
      ],
      "metadata": {
        "id": "-rzAQIuVyPR0"
      },
      "id": "-rzAQIuVyPR0"
    },
    {
      "cell_type": "markdown",
      "metadata": {
        "id": "vVRVzigfxbIh"
      },
      "source": [
        "## **7. Prompt de investigación 🔑**"
      ],
      "id": "vVRVzigfxbIh"
    },
    {
      "cell_type": "markdown",
      "source": [
        "**7.1 Teoría Moderna de Portafolios (Markowitz y Frontera Eficiente)**\n",
        "\n",
        "*   Paper Académico (Repositorio Redalyc)\tDiscusión sobre la Teoría Moderna del Portafolio y su aplicación, incluyendo la maximización del Ratio de Sharpe para resolver el modelo de Markowitz. Ir al Enlace: http://www.scielo.org.co/scielo.php?script=sci_arttext&pid=S0123-59232002000200006\n",
        "\n",
        "*   Tesis de Grado (Repositorio UNBOSQUE)\tGuía sobre la Teoría de Portafolio Eficiente de Markowitz. Enfocada en la construcción de carteras y la importancia de la diversificación para reducir el riesgo.\tIr al Enlace: https://repositorio.unbosque.edu.co/server/api/core/bitstreams/938d94c9-5346-4c91-be2b-e644cfba0d81/content\n",
        "\n",
        "*   Artículo Científico (Dialnet)\tTeoría de Markowitz en portafolios del S&P 500. Aplicación del modelo para optimizar el equilibrio entre riesgo y rendimiento, usando el Índice de Sharpe.\tArchivo descargado.\n",
        "\n",
        "**7.2 Indicadores de Riesgo y Rendimiento (Sharpe, Treynor, Jensen, Beta)**\n",
        "\n",
        "*   Monografía/Reporte (CNMV)\tLos fondos de inversión: performance y persistencia. Describe y compara la Ratio de Sharpe, Ratio de Treynor y Alpha de Jensen como medidas tradicionales de evaluación de desempeño.\tArchivo descargado.\n",
        "\n",
        "*   Artículo Académico (ResearchGate)\tPortafolios de activos financieros utilizando el modelo de Sharpe y Treynor. Explica el cálculo de los índices y su interpretación práctica (positivo, negativo, mayor o menor que 1).\tIr al Enlace: https://www.researchgate.net/publication/319661142_Portafolios_de_activos_financieros_utilizando_el_modelo_de_Sharpe_y_Treynor\n",
        "\n",
        "**7.3 Aplicaciones Prácticas y Estudios de Caso (AAPL, MSFT, NVDA, TSLA)**\n",
        "\n",
        "*   Tesis/Estudio de Caso (Repositorio UNCUYO)\tOptimización de cartera de acciones con Python. Estudio de caso que utiliza MSFT, AAPL, NVDA y TSLA (entre otras) para optimizar el portafolio en base al máximo Ratio de Sharpe y mínima volatilidad.\tIr al Enlace: https://bdigital.uncu.edu.ar/objetos_digitales/18253/bartolomeoymachnurbay-optimizacioncarteraaccionesphyton.pdf\n",
        "\n",
        "*   Tesis de Grado (Repositorio UNMSM)\tAnálisis de modelos matemáticos para la optimización de portafolios de inversión usando Python. Aborda la implementación computacional del modelo de Markowitz para maximizar ganancias y minimizar el riesgo. Ir al Enlace: https://alicia.concytec.gob.pe/vufind/Record/UNMS_cb557ac2987991e192f7fd1c42571910\n"
      ],
      "metadata": {
        "id": "s6dd0qen45AE"
      },
      "id": "s6dd0qen45AE"
    },
    {
      "cell_type": "code",
      "source": [],
      "metadata": {
        "id": "OO72Eh0g8BXd"
      },
      "id": "OO72Eh0g8BXd",
      "execution_count": null,
      "outputs": []
    }
  ],
  "metadata": {
    "kernelspec": {
      "display_name": "Python 3",
      "language": "python",
      "name": "python3"
    },
    "language_info": {
      "name": "python",
      "version": "3.9"
    },
    "colab": {
      "provenance": []
    }
  },
  "nbformat": 4,
  "nbformat_minor": 5
}